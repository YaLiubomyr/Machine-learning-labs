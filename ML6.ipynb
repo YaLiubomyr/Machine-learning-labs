{
  "nbformat": 4,
  "nbformat_minor": 0,
  "metadata": {
    "colab": {
      "provenance": [],
      "toc_visible": true
    },
    "kernelspec": {
      "name": "python3",
      "display_name": "Python 3"
    },
    "language_info": {
      "name": "python"
    }
  },
  "cells": [
    {
      "cell_type": "markdown",
      "source": [
        "# Постановка задачі"
      ],
      "metadata": {
        "id": "nIjarxMGIwuE"
      }
    },
    {
      "cell_type": "markdown",
      "source": [
        "Створити, навчити і апробувати багатошарову нейронну мережу з прямою передачею сигналу для ухвалення рішення про зарахування до Університету абітурієнтів, які здали вступні іспити з математики, англійської та української мови.\n",
        "\n",
        "Правила прийому наступні:\n",
        "1. Рейтинг абітурієнтів формується за формулою 0,4 БМ+0,3БА+0,3БУ, де БМ-бал з іспиту з математики, БА-бал з іспиту з англійської мови, БУ-бал з іспиту з української мови.\n",
        "2. Мінімальний прохідний бал на вступ 160 для абітурієнтів без пільг.\n",
        "3. З математики для абітурієнтів без пільг мінімальний бал іспиту не може бути менший 140 балів.\n",
        "4. Абітурієнти, які мають пільги, зараховуються при мінімумі 120 балів з усіх іспитів і їх рейтинг не може бути меншим ніж 144 бали\n",
        "5. Університет може прийняти на навчання 350 абітурієнтів, з них не більше 10% це абітурієнти з пільгами.\n",
        "6. Статистика минулих років показує, що в середньому до Університету подають документи 1500 абітурієнтів.\n",
        "\n",
        "Для навчання мережі слід використовувати всі вивчені методи адаптації та навчання та провести аналіз їх ефективності. Слід також визначити мінімальну кількість шарів і нейронів, що забезпечує задовільне рішення поставленої задачі. У звіті навести архітектуру мережі та код реалізації.\n",
        "Результат має бути візуалізований та представлений у формі Еxcel таблиці, як список зарахованих абітурієнтів."
      ],
      "metadata": {
        "id": "gCiXTS7QI17o"
      }
    },
    {
      "cell_type": "markdown",
      "source": [
        "# Виконання"
      ],
      "metadata": {
        "id": "0MttVp6-QEvi"
      }
    },
    {
      "cell_type": "markdown",
      "source": [
        "Імпортую бібліотеки"
      ],
      "metadata": {
        "id": "NYbZ8bDIRMy8"
      }
    },
    {
      "cell_type": "code",
      "execution_count": 1,
      "metadata": {
        "id": "09iVvN5JYLUJ"
      },
      "outputs": [],
      "source": [
        "import pandas as pd\n",
        "import numpy as np\n",
        "from keras import models\n",
        "from keras import layers\n",
        "from keras.utils import to_categorical\n",
        "from keras.callbacks import EarlyStopping\n",
        "# from scikeras.wrappers import KerasClassifier\n",
        "from sklearn.model_selection import GridSearchCV, StratifiedKFold\n",
        "from sklearn.metrics import accuracy_score\n",
        "np.random.seed(1)"
      ]
    },
    {
      "cell_type": "code",
      "source": [
        "# pip install keras==2.12.0"
      ],
      "metadata": {
        "colab": {
          "base_uri": "https://localhost:8080/",
          "height": 324
        },
        "id": "e6oPPhljNGZg",
        "outputId": "8910ba8e-9217-405e-b9a9-b67162726de9",
        "collapsed": true
      },
      "execution_count": 2,
      "outputs": [
        {
          "output_type": "stream",
          "name": "stdout",
          "text": [
            "Collecting keras==2.12.0\n",
            "  Downloading keras-2.12.0-py2.py3-none-any.whl (1.7 MB)\n",
            "\u001b[2K     \u001b[90m━━━━━━━━━━━━━━━━━━━━━━━━━━━━━━━━━━━━━━━━\u001b[0m \u001b[32m1.7/1.7 MB\u001b[0m \u001b[31m8.9 MB/s\u001b[0m eta \u001b[36m0:00:00\u001b[0m\n",
            "\u001b[?25hInstalling collected packages: keras\n",
            "  Attempting uninstall: keras\n",
            "    Found existing installation: keras 2.15.0\n",
            "    Uninstalling keras-2.15.0:\n",
            "      Successfully uninstalled keras-2.15.0\n",
            "\u001b[31mERROR: pip's dependency resolver does not currently take into account all the packages that are installed. This behaviour is the source of the following dependency conflicts.\n",
            "tensorflow 2.15.0 requires keras<2.16,>=2.15.0, but you have keras 2.12.0 which is incompatible.\u001b[0m\u001b[31m\n",
            "\u001b[0mSuccessfully installed keras-2.12.0\n"
          ]
        },
        {
          "output_type": "display_data",
          "data": {
            "application/vnd.colab-display-data+json": {
              "pip_warning": {
                "packages": [
                  "keras"
                ]
              },
              "id": "0fde4fe542244185aeb14d1cbc102d7c"
            }
          },
          "metadata": {}
        }
      ]
    },
    {
      "cell_type": "markdown",
      "source": [
        "Створюю константи, які визначатиму параметри даних"
      ],
      "metadata": {
        "id": "QrD4HVwIRaxl"
      }
    },
    {
      "cell_type": "code",
      "source": [
        "num_years = 5 # кількість минулих років\n",
        "num_all_avg = 1500 # кількість вступників кожного року в середньому\n",
        "num_places = 350 # кількість місць\n",
        "part_privilege = 0.1 # відсоток з пільгами"
      ],
      "metadata": {
        "id": "9iZxZZY_RSBf"
      },
      "execution_count": 2,
      "outputs": []
    },
    {
      "cell_type": "markdown",
      "source": [
        "Створюю функції для базових розрахунків"
      ],
      "metadata": {
        "id": "wF4JeIHeH-Zu"
      }
    },
    {
      "cell_type": "markdown",
      "source": [
        "Функція розрахунку пільгових місць"
      ],
      "metadata": {
        "id": "EaJXvJ55JBX5"
      }
    },
    {
      "cell_type": "code",
      "source": [
        "def num_priv(num):\n",
        "  return int(num * part_privilege)"
      ],
      "metadata": {
        "id": "wjZf1MSpJFPW"
      },
      "execution_count": 3,
      "outputs": []
    },
    {
      "cell_type": "markdown",
      "source": [
        "Функція для розрахунку непільгових місць"
      ],
      "metadata": {
        "id": "zPF2DnttJKjY"
      }
    },
    {
      "cell_type": "code",
      "source": [
        "def num_unpriv(num):\n",
        "  return num - int(num * part_privilege)"
      ],
      "metadata": {
        "id": "tX0BMtqcJPFU"
      },
      "execution_count": 4,
      "outputs": []
    },
    {
      "cell_type": "markdown",
      "source": [
        "Функція для генерації оцінок"
      ],
      "metadata": {
        "id": "Aq70bisWJQse"
      }
    },
    {
      "cell_type": "code",
      "source": [
        "def randrate(num, minr, maxr, mean, std):\n",
        "  rates = np.random.normal(mean, std, num)\n",
        "\n",
        "  rates = pd.Series (map(\n",
        "    lambda x:\n",
        "      minr if x < minr else\n",
        "      maxr if x > maxr else\n",
        "      int(x), rates))\n",
        "\n",
        "  return rates"
      ],
      "metadata": {
        "id": "ERfCAhflJStx"
      },
      "execution_count": 5,
      "outputs": []
    },
    {
      "cell_type": "markdown",
      "source": [
        "Функція для генерації результатів вступу до університету за рік"
      ],
      "metadata": {
        "id": "xt6r41WGKCio"
      }
    },
    {
      "cell_type": "code",
      "source": [
        "def generate_df(seed):\n",
        "  np.random.seed(seed)\n",
        "  num_all = int(np.random.normal(num_all_avg, 200))\n",
        "  df = pd.DataFrame()\n",
        "  ids = list(range(num_all))\n",
        "  np.random.shuffle(ids)\n",
        "  df['id'] = ids\n",
        "  df['rate_math'] = randrate(num_all, 100, 200, 155, 45)\n",
        "  df['rate_en'] = randrate(num_all, 100, 200, 155, 45)\n",
        "  df['rate_ukr'] = randrate (num_all, 100, 200, 155, 45)\n",
        "  df['rate_res'] = df['rate_math']*0.4 + df['rate_en']*0.3 + df['rate_ukr']*0.3\n",
        "  is_priv = [1]*num_priv(num_all) + [0]*num_unpriv(num_all)\n",
        "  np.random.shuffle(is_priv)\n",
        "  df['is_priv'] = is_priv\n",
        "\n",
        "  df_priv = df[df['is_priv'] == 1].sort_values('rate_res', ascending=False)\n",
        "  df_priv_chosen = df_priv[\n",
        "    (df_priv['rate_en'] >= 120) &\n",
        "    (df_priv['rate_ukr'] >= 120) &\n",
        "    (df_priv['rate_math'] >= 120) &\n",
        "    (df_priv['rate_res'] >= 144)\n",
        "  ].iloc[0:num_priv(num_places)]['id']\n",
        "\n",
        "\n",
        "  df_unpriv = df[df['is_priv'] == 0].sort_values('rate_res', ascending=False)\n",
        "  df_unpriv_chosen = df_unpriv[ (df_unpriv['rate_res'] >= 160) & (df_unpriv['rate_math'] >= 140) ].iloc[0:num_unpriv(num_places)]['id']\n",
        "  df_chosen = pd.concat([df_priv_chosen, df_unpriv_chosen])\n",
        "  df.loc[df['id'].isin(df_chosen), 'decision'] = 1\n",
        "  df.loc[df['decision'] != 1, 'decision'] = 0\n",
        "  return df"
      ],
      "metadata": {
        "id": "JJmhjHNTKKQU"
      },
      "execution_count": 6,
      "outputs": []
    },
    {
      "cell_type": "markdown",
      "source": [
        "Генерую дані для заданої кількості років"
      ],
      "metadata": {
        "id": "M7KQ4OmfeFiH"
      }
    },
    {
      "cell_type": "code",
      "source": [
        "data = [None]*num_years\n",
        "for year in range(num_years):\n",
        "  data[year] = generate_df(year)\n",
        "\n",
        "df = data[0]\n",
        "df[df['decision'] == 1].sort_values('rate_res')"
      ],
      "metadata": {
        "colab": {
          "base_uri": "https://localhost:8080/",
          "height": 423
        },
        "id": "NK6V5yoOVs8e",
        "outputId": "6d104974-e293-47b7-b008-8074bc1e63c4"
      },
      "execution_count": 7,
      "outputs": [
        {
          "output_type": "execute_result",
          "data": {
            "text/plain": [
              "        id  rate_math  rate_en  rate_ukr  rate_res  is_priv  decision\n",
              "1126  1154        168      154       182     168.0        1       1.0\n",
              "1238   671        145      168       199     168.1        1       1.0\n",
              "725   1769        146      167       200     168.5        1       1.0\n",
              "483   1347        152      200       159     168.5        1       1.0\n",
              "1640   928        162      167       179     168.6        1       1.0\n",
              "...    ...        ...      ...       ...       ...      ...       ...\n",
              "652   1178        200      198       200     199.4        0       1.0\n",
              "1818   850        200      200       200     200.0        0       1.0\n",
              "562   1761        200      200       200     200.0        0       1.0\n",
              "281    458        200      200       200     200.0        0       1.0\n",
              "128    259        200      200       200     200.0        1       1.0\n",
              "\n",
              "[350 rows x 7 columns]"
            ],
            "text/html": [
              "\n",
              "  <div id=\"df-e9eb35f5-0cf2-44cb-a250-d6e95b66a923\" class=\"colab-df-container\">\n",
              "    <div>\n",
              "<style scoped>\n",
              "    .dataframe tbody tr th:only-of-type {\n",
              "        vertical-align: middle;\n",
              "    }\n",
              "\n",
              "    .dataframe tbody tr th {\n",
              "        vertical-align: top;\n",
              "    }\n",
              "\n",
              "    .dataframe thead th {\n",
              "        text-align: right;\n",
              "    }\n",
              "</style>\n",
              "<table border=\"1\" class=\"dataframe\">\n",
              "  <thead>\n",
              "    <tr style=\"text-align: right;\">\n",
              "      <th></th>\n",
              "      <th>id</th>\n",
              "      <th>rate_math</th>\n",
              "      <th>rate_en</th>\n",
              "      <th>rate_ukr</th>\n",
              "      <th>rate_res</th>\n",
              "      <th>is_priv</th>\n",
              "      <th>decision</th>\n",
              "    </tr>\n",
              "  </thead>\n",
              "  <tbody>\n",
              "    <tr>\n",
              "      <th>1126</th>\n",
              "      <td>1154</td>\n",
              "      <td>168</td>\n",
              "      <td>154</td>\n",
              "      <td>182</td>\n",
              "      <td>168.0</td>\n",
              "      <td>1</td>\n",
              "      <td>1.0</td>\n",
              "    </tr>\n",
              "    <tr>\n",
              "      <th>1238</th>\n",
              "      <td>671</td>\n",
              "      <td>145</td>\n",
              "      <td>168</td>\n",
              "      <td>199</td>\n",
              "      <td>168.1</td>\n",
              "      <td>1</td>\n",
              "      <td>1.0</td>\n",
              "    </tr>\n",
              "    <tr>\n",
              "      <th>725</th>\n",
              "      <td>1769</td>\n",
              "      <td>146</td>\n",
              "      <td>167</td>\n",
              "      <td>200</td>\n",
              "      <td>168.5</td>\n",
              "      <td>1</td>\n",
              "      <td>1.0</td>\n",
              "    </tr>\n",
              "    <tr>\n",
              "      <th>483</th>\n",
              "      <td>1347</td>\n",
              "      <td>152</td>\n",
              "      <td>200</td>\n",
              "      <td>159</td>\n",
              "      <td>168.5</td>\n",
              "      <td>1</td>\n",
              "      <td>1.0</td>\n",
              "    </tr>\n",
              "    <tr>\n",
              "      <th>1640</th>\n",
              "      <td>928</td>\n",
              "      <td>162</td>\n",
              "      <td>167</td>\n",
              "      <td>179</td>\n",
              "      <td>168.6</td>\n",
              "      <td>1</td>\n",
              "      <td>1.0</td>\n",
              "    </tr>\n",
              "    <tr>\n",
              "      <th>...</th>\n",
              "      <td>...</td>\n",
              "      <td>...</td>\n",
              "      <td>...</td>\n",
              "      <td>...</td>\n",
              "      <td>...</td>\n",
              "      <td>...</td>\n",
              "      <td>...</td>\n",
              "    </tr>\n",
              "    <tr>\n",
              "      <th>652</th>\n",
              "      <td>1178</td>\n",
              "      <td>200</td>\n",
              "      <td>198</td>\n",
              "      <td>200</td>\n",
              "      <td>199.4</td>\n",
              "      <td>0</td>\n",
              "      <td>1.0</td>\n",
              "    </tr>\n",
              "    <tr>\n",
              "      <th>1818</th>\n",
              "      <td>850</td>\n",
              "      <td>200</td>\n",
              "      <td>200</td>\n",
              "      <td>200</td>\n",
              "      <td>200.0</td>\n",
              "      <td>0</td>\n",
              "      <td>1.0</td>\n",
              "    </tr>\n",
              "    <tr>\n",
              "      <th>562</th>\n",
              "      <td>1761</td>\n",
              "      <td>200</td>\n",
              "      <td>200</td>\n",
              "      <td>200</td>\n",
              "      <td>200.0</td>\n",
              "      <td>0</td>\n",
              "      <td>1.0</td>\n",
              "    </tr>\n",
              "    <tr>\n",
              "      <th>281</th>\n",
              "      <td>458</td>\n",
              "      <td>200</td>\n",
              "      <td>200</td>\n",
              "      <td>200</td>\n",
              "      <td>200.0</td>\n",
              "      <td>0</td>\n",
              "      <td>1.0</td>\n",
              "    </tr>\n",
              "    <tr>\n",
              "      <th>128</th>\n",
              "      <td>259</td>\n",
              "      <td>200</td>\n",
              "      <td>200</td>\n",
              "      <td>200</td>\n",
              "      <td>200.0</td>\n",
              "      <td>1</td>\n",
              "      <td>1.0</td>\n",
              "    </tr>\n",
              "  </tbody>\n",
              "</table>\n",
              "<p>350 rows × 7 columns</p>\n",
              "</div>\n",
              "    <div class=\"colab-df-buttons\">\n",
              "\n",
              "  <div class=\"colab-df-container\">\n",
              "    <button class=\"colab-df-convert\" onclick=\"convertToInteractive('df-e9eb35f5-0cf2-44cb-a250-d6e95b66a923')\"\n",
              "            title=\"Convert this dataframe to an interactive table.\"\n",
              "            style=\"display:none;\">\n",
              "\n",
              "  <svg xmlns=\"http://www.w3.org/2000/svg\" height=\"24px\" viewBox=\"0 -960 960 960\">\n",
              "    <path d=\"M120-120v-720h720v720H120Zm60-500h600v-160H180v160Zm220 220h160v-160H400v160Zm0 220h160v-160H400v160ZM180-400h160v-160H180v160Zm440 0h160v-160H620v160ZM180-180h160v-160H180v160Zm440 0h160v-160H620v160Z\"/>\n",
              "  </svg>\n",
              "    </button>\n",
              "\n",
              "  <style>\n",
              "    .colab-df-container {\n",
              "      display:flex;\n",
              "      gap: 12px;\n",
              "    }\n",
              "\n",
              "    .colab-df-convert {\n",
              "      background-color: #E8F0FE;\n",
              "      border: none;\n",
              "      border-radius: 50%;\n",
              "      cursor: pointer;\n",
              "      display: none;\n",
              "      fill: #1967D2;\n",
              "      height: 32px;\n",
              "      padding: 0 0 0 0;\n",
              "      width: 32px;\n",
              "    }\n",
              "\n",
              "    .colab-df-convert:hover {\n",
              "      background-color: #E2EBFA;\n",
              "      box-shadow: 0px 1px 2px rgba(60, 64, 67, 0.3), 0px 1px 3px 1px rgba(60, 64, 67, 0.15);\n",
              "      fill: #174EA6;\n",
              "    }\n",
              "\n",
              "    .colab-df-buttons div {\n",
              "      margin-bottom: 4px;\n",
              "    }\n",
              "\n",
              "    [theme=dark] .colab-df-convert {\n",
              "      background-color: #3B4455;\n",
              "      fill: #D2E3FC;\n",
              "    }\n",
              "\n",
              "    [theme=dark] .colab-df-convert:hover {\n",
              "      background-color: #434B5C;\n",
              "      box-shadow: 0px 1px 3px 1px rgba(0, 0, 0, 0.15);\n",
              "      filter: drop-shadow(0px 1px 2px rgba(0, 0, 0, 0.3));\n",
              "      fill: #FFFFFF;\n",
              "    }\n",
              "  </style>\n",
              "\n",
              "    <script>\n",
              "      const buttonEl =\n",
              "        document.querySelector('#df-e9eb35f5-0cf2-44cb-a250-d6e95b66a923 button.colab-df-convert');\n",
              "      buttonEl.style.display =\n",
              "        google.colab.kernel.accessAllowed ? 'block' : 'none';\n",
              "\n",
              "      async function convertToInteractive(key) {\n",
              "        const element = document.querySelector('#df-e9eb35f5-0cf2-44cb-a250-d6e95b66a923');\n",
              "        const dataTable =\n",
              "          await google.colab.kernel.invokeFunction('convertToInteractive',\n",
              "                                                    [key], {});\n",
              "        if (!dataTable) return;\n",
              "\n",
              "        const docLinkHtml = 'Like what you see? Visit the ' +\n",
              "          '<a target=\"_blank\" href=https://colab.research.google.com/notebooks/data_table.ipynb>data table notebook</a>'\n",
              "          + ' to learn more about interactive tables.';\n",
              "        element.innerHTML = '';\n",
              "        dataTable['output_type'] = 'display_data';\n",
              "        await google.colab.output.renderOutput(dataTable, element);\n",
              "        const docLink = document.createElement('div');\n",
              "        docLink.innerHTML = docLinkHtml;\n",
              "        element.appendChild(docLink);\n",
              "      }\n",
              "    </script>\n",
              "  </div>\n",
              "\n",
              "\n",
              "<div id=\"df-a1ca79f5-e92b-40e0-856f-5c67ff1c2260\">\n",
              "  <button class=\"colab-df-quickchart\" onclick=\"quickchart('df-a1ca79f5-e92b-40e0-856f-5c67ff1c2260')\"\n",
              "            title=\"Suggest charts\"\n",
              "            style=\"display:none;\">\n",
              "\n",
              "<svg xmlns=\"http://www.w3.org/2000/svg\" height=\"24px\"viewBox=\"0 0 24 24\"\n",
              "     width=\"24px\">\n",
              "    <g>\n",
              "        <path d=\"M19 3H5c-1.1 0-2 .9-2 2v14c0 1.1.9 2 2 2h14c1.1 0 2-.9 2-2V5c0-1.1-.9-2-2-2zM9 17H7v-7h2v7zm4 0h-2V7h2v10zm4 0h-2v-4h2v4z\"/>\n",
              "    </g>\n",
              "</svg>\n",
              "  </button>\n",
              "\n",
              "<style>\n",
              "  .colab-df-quickchart {\n",
              "      --bg-color: #E8F0FE;\n",
              "      --fill-color: #1967D2;\n",
              "      --hover-bg-color: #E2EBFA;\n",
              "      --hover-fill-color: #174EA6;\n",
              "      --disabled-fill-color: #AAA;\n",
              "      --disabled-bg-color: #DDD;\n",
              "  }\n",
              "\n",
              "  [theme=dark] .colab-df-quickchart {\n",
              "      --bg-color: #3B4455;\n",
              "      --fill-color: #D2E3FC;\n",
              "      --hover-bg-color: #434B5C;\n",
              "      --hover-fill-color: #FFFFFF;\n",
              "      --disabled-bg-color: #3B4455;\n",
              "      --disabled-fill-color: #666;\n",
              "  }\n",
              "\n",
              "  .colab-df-quickchart {\n",
              "    background-color: var(--bg-color);\n",
              "    border: none;\n",
              "    border-radius: 50%;\n",
              "    cursor: pointer;\n",
              "    display: none;\n",
              "    fill: var(--fill-color);\n",
              "    height: 32px;\n",
              "    padding: 0;\n",
              "    width: 32px;\n",
              "  }\n",
              "\n",
              "  .colab-df-quickchart:hover {\n",
              "    background-color: var(--hover-bg-color);\n",
              "    box-shadow: 0 1px 2px rgba(60, 64, 67, 0.3), 0 1px 3px 1px rgba(60, 64, 67, 0.15);\n",
              "    fill: var(--button-hover-fill-color);\n",
              "  }\n",
              "\n",
              "  .colab-df-quickchart-complete:disabled,\n",
              "  .colab-df-quickchart-complete:disabled:hover {\n",
              "    background-color: var(--disabled-bg-color);\n",
              "    fill: var(--disabled-fill-color);\n",
              "    box-shadow: none;\n",
              "  }\n",
              "\n",
              "  .colab-df-spinner {\n",
              "    border: 2px solid var(--fill-color);\n",
              "    border-color: transparent;\n",
              "    border-bottom-color: var(--fill-color);\n",
              "    animation:\n",
              "      spin 1s steps(1) infinite;\n",
              "  }\n",
              "\n",
              "  @keyframes spin {\n",
              "    0% {\n",
              "      border-color: transparent;\n",
              "      border-bottom-color: var(--fill-color);\n",
              "      border-left-color: var(--fill-color);\n",
              "    }\n",
              "    20% {\n",
              "      border-color: transparent;\n",
              "      border-left-color: var(--fill-color);\n",
              "      border-top-color: var(--fill-color);\n",
              "    }\n",
              "    30% {\n",
              "      border-color: transparent;\n",
              "      border-left-color: var(--fill-color);\n",
              "      border-top-color: var(--fill-color);\n",
              "      border-right-color: var(--fill-color);\n",
              "    }\n",
              "    40% {\n",
              "      border-color: transparent;\n",
              "      border-right-color: var(--fill-color);\n",
              "      border-top-color: var(--fill-color);\n",
              "    }\n",
              "    60% {\n",
              "      border-color: transparent;\n",
              "      border-right-color: var(--fill-color);\n",
              "    }\n",
              "    80% {\n",
              "      border-color: transparent;\n",
              "      border-right-color: var(--fill-color);\n",
              "      border-bottom-color: var(--fill-color);\n",
              "    }\n",
              "    90% {\n",
              "      border-color: transparent;\n",
              "      border-bottom-color: var(--fill-color);\n",
              "    }\n",
              "  }\n",
              "</style>\n",
              "\n",
              "  <script>\n",
              "    async function quickchart(key) {\n",
              "      const quickchartButtonEl =\n",
              "        document.querySelector('#' + key + ' button');\n",
              "      quickchartButtonEl.disabled = true;  // To prevent multiple clicks.\n",
              "      quickchartButtonEl.classList.add('colab-df-spinner');\n",
              "      try {\n",
              "        const charts = await google.colab.kernel.invokeFunction(\n",
              "            'suggestCharts', [key], {});\n",
              "      } catch (error) {\n",
              "        console.error('Error during call to suggestCharts:', error);\n",
              "      }\n",
              "      quickchartButtonEl.classList.remove('colab-df-spinner');\n",
              "      quickchartButtonEl.classList.add('colab-df-quickchart-complete');\n",
              "    }\n",
              "    (() => {\n",
              "      let quickchartButtonEl =\n",
              "        document.querySelector('#df-a1ca79f5-e92b-40e0-856f-5c67ff1c2260 button');\n",
              "      quickchartButtonEl.style.display =\n",
              "        google.colab.kernel.accessAllowed ? 'block' : 'none';\n",
              "    })();\n",
              "  </script>\n",
              "</div>\n",
              "    </div>\n",
              "  </div>\n"
            ],
            "application/vnd.google.colaboratory.intrinsic+json": {
              "type": "dataframe",
              "summary": "{\n  \"name\": \"df[df['decision'] == 1]\",\n  \"rows\": 350,\n  \"fields\": [\n    {\n      \"column\": \"id\",\n      \"properties\": {\n        \"dtype\": \"number\",\n        \"std\": 540,\n        \"min\": 1,\n        \"max\": 1850,\n        \"num_unique_values\": 350,\n        \"samples\": [\n          1483,\n          203,\n          1467\n        ],\n        \"semantic_type\": \"\",\n        \"description\": \"\"\n      }\n    },\n    {\n      \"column\": \"rate_math\",\n      \"properties\": {\n        \"dtype\": \"number\",\n        \"std\": 17,\n        \"min\": 133,\n        \"max\": 200,\n        \"num_unique_values\": 59,\n        \"samples\": [\n          168,\n          153,\n          175\n        ],\n        \"semantic_type\": \"\",\n        \"description\": \"\"\n      }\n    },\n    {\n      \"column\": \"rate_en\",\n      \"properties\": {\n        \"dtype\": \"number\",\n        \"std\": 21,\n        \"min\": 110,\n        \"max\": 200,\n        \"num_unique_values\": 72,\n        \"samples\": [\n          169,\n          195,\n          172\n        ],\n        \"semantic_type\": \"\",\n        \"description\": \"\"\n      }\n    },\n    {\n      \"column\": \"rate_ukr\",\n      \"properties\": {\n        \"dtype\": \"number\",\n        \"std\": 21,\n        \"min\": 110,\n        \"max\": 200,\n        \"num_unique_values\": 74,\n        \"samples\": [\n          179,\n          187,\n          141\n        ],\n        \"semantic_type\": \"\",\n        \"description\": \"\"\n      }\n    },\n    {\n      \"column\": \"rate_res\",\n      \"properties\": {\n        \"dtype\": \"number\",\n        \"std\": 7.367389374622357,\n        \"min\": 168.0,\n        \"max\": 200.0,\n        \"num_unique_values\": 213,\n        \"samples\": [\n          172.4,\n          195.60000000000002,\n          178.1\n        ],\n        \"semantic_type\": \"\",\n        \"description\": \"\"\n      }\n    },\n    {\n      \"column\": \"is_priv\",\n      \"properties\": {\n        \"dtype\": \"number\",\n        \"std\": 0,\n        \"min\": 0,\n        \"max\": 1,\n        \"num_unique_values\": 2,\n        \"samples\": [\n          0,\n          1\n        ],\n        \"semantic_type\": \"\",\n        \"description\": \"\"\n      }\n    },\n    {\n      \"column\": \"decision\",\n      \"properties\": {\n        \"dtype\": \"number\",\n        \"std\": 0.0,\n        \"min\": 1.0,\n        \"max\": 1.0,\n        \"num_unique_values\": 1,\n        \"samples\": [\n          1.0\n        ],\n        \"semantic_type\": \"\",\n        \"description\": \"\"\n      }\n    }\n  ]\n}"
            }
          },
          "metadata": {},
          "execution_count": 7
        }
      ]
    },
    {
      "cell_type": "markdown",
      "source": [
        "Готую розмічені дані, ділю їх на x та y"
      ],
      "metadata": {
        "id": "hBluIbxUeLCG"
      }
    },
    {
      "cell_type": "code",
      "source": [
        "X = pd.DataFrame()\n",
        "y = pd.DataFrame()\n",
        "\n",
        "for df in data:\n",
        "  X = pd.concat(( X, df[['rate_math', 'rate_en', 'rate_ukr', 'is_priv']] ))\n",
        "  y = pd.concat(( y, df[['decision']] ))"
      ],
      "metadata": {
        "id": "I9LbyWAKfyNF"
      },
      "execution_count": 8,
      "outputs": []
    },
    {
      "cell_type": "markdown",
      "source": [
        "Переводжу значення в інтервал від 0 до 1"
      ],
      "metadata": {
        "id": "4FJGZahQfy1-"
      }
    },
    {
      "cell_type": "code",
      "source": [
        "X[['rate_math', 'rate_en', 'rate_ukr']] = (X[['rate_math', 'rate_en', 'rate_ukr']] - 100).astype('float32')/100"
      ],
      "metadata": {
        "id": "claZeI_MgAeS"
      },
      "execution_count": 9,
      "outputs": []
    },
    {
      "cell_type": "markdown",
      "source": [
        "Розділяю дані на навчальні та тестові"
      ],
      "metadata": {
        "id": "qqPPfNzohG7t"
      }
    },
    {
      "cell_type": "code",
      "source": [
        "from sklearn.model_selection import train_test_split\n",
        "\n",
        "X_train, X_test, y_train, y_test = train_test_split(X, y, test_size=0.2, random_state=1)"
      ],
      "metadata": {
        "id": "9H9UOhm2hHVT"
      },
      "execution_count": 10,
      "outputs": []
    },
    {
      "cell_type": "markdown",
      "source": [
        "Визначаю тип моделі та шари"
      ],
      "metadata": {
        "id": "pniFB0OTiPWH"
      }
    },
    {
      "cell_type": "code",
      "source": [
        "model = models.Sequential()\n",
        "\n",
        "model.add(layers.Dense(16, activation='relu', input_dim=4))\n",
        "model.add(layers.Dense(8, activation='relu'))\n",
        "model.add(layers.Dense(1, activation='sigmoid'))"
      ],
      "metadata": {
        "id": "BSXySWlrnbQM"
      },
      "execution_count": 11,
      "outputs": []
    },
    {
      "cell_type": "markdown",
      "source": [
        "Компілюю модель"
      ],
      "metadata": {
        "id": "mpFfizblo4ww"
      }
    },
    {
      "cell_type": "code",
      "source": [
        "model.compile(optimizer='rmsprop',\n",
        "              loss='binary_crossentropy',\n",
        "              metrics=['accuracy'])"
      ],
      "metadata": {
        "id": "EGP6GP0fo9lx"
      },
      "execution_count": 12,
      "outputs": []
    },
    {
      "cell_type": "markdown",
      "source": [
        "Навчаю модель"
      ],
      "metadata": {
        "id": "WTBeyQdCssHM"
      }
    },
    {
      "cell_type": "code",
      "source": [
        "model.fit(X_train, y_train, epochs=10, batch_size=10)"
      ],
      "metadata": {
        "colab": {
          "base_uri": "https://localhost:8080/",
          "height": 0
        },
        "id": "aQ-327I7suTd",
        "outputId": "8ee8c1ba-896b-4026-fbab-2496a6ebbbbb"
      },
      "execution_count": 13,
      "outputs": [
        {
          "output_type": "stream",
          "name": "stdout",
          "text": [
            "Epoch 1/10\n",
            "677/677 [==============================] - 2s 2ms/step - loss: 0.4459 - accuracy: 0.8060\n",
            "Epoch 2/10\n",
            "677/677 [==============================] - 2s 3ms/step - loss: 0.2043 - accuracy: 0.9273\n",
            "Epoch 3/10\n",
            "677/677 [==============================] - 1s 2ms/step - loss: 0.1254 - accuracy: 0.9568\n",
            "Epoch 4/10\n",
            "677/677 [==============================] - 1s 2ms/step - loss: 0.1005 - accuracy: 0.9631\n",
            "Epoch 5/10\n",
            "677/677 [==============================] - 1s 2ms/step - loss: 0.0898 - accuracy: 0.9641\n",
            "Epoch 6/10\n",
            "677/677 [==============================] - 1s 2ms/step - loss: 0.0830 - accuracy: 0.9662\n",
            "Epoch 7/10\n",
            "677/677 [==============================] - 2s 3ms/step - loss: 0.0777 - accuracy: 0.9675\n",
            "Epoch 8/10\n",
            "677/677 [==============================] - 2s 2ms/step - loss: 0.0757 - accuracy: 0.9684\n",
            "Epoch 9/10\n",
            "677/677 [==============================] - 1s 2ms/step - loss: 0.0738 - accuracy: 0.9665\n",
            "Epoch 10/10\n",
            "677/677 [==============================] - 1s 2ms/step - loss: 0.0729 - accuracy: 0.9681\n"
          ]
        }
      ]
    },
    {
      "cell_type": "markdown",
      "source": [
        "Визначаю мінімальну кількість нейронів та шарів, що забезпечують точність не менше 90%"
      ],
      "metadata": {
        "id": "f3llybT8I7FH"
      }
    },
    {
      "cell_type": "markdown",
      "source": [
        "Фукція, у якій буде створюватися та компілюватися модель"
      ],
      "metadata": {
        "id": "_Ym3XUSpMljq"
      }
    },
    {
      "cell_type": "code",
      "source": [
        "def create_model(num_layers=1, num_neurons=1):\n",
        "    model = models.Sequential()\n",
        "    model.add(layers.Dense(num_neurons, activation='relu', input_dim=4))\n",
        "    for _ in range(num_layers - 1):\n",
        "        model.add(layers.Dense(num_neurons, activation='relu'))\n",
        "    model.add(layers.Dense(1, activation='sigmoid'))\n",
        "    model.compile(optimizer='rmsprop', loss='binary_crossentropy', metrics=['accuracy'])\n",
        "    return model"
      ],
      "metadata": {
        "id": "tyo9n2qdJLw_"
      },
      "execution_count": 21,
      "outputs": []
    },
    {
      "cell_type": "markdown",
      "source": [
        "Функція, яка розділяє вибірку на навчальні та тестові дані, задає певні параметри та шукає мінімалоно необхідну модель"
      ],
      "metadata": {
        "id": "FdUHpqO3Mqf6"
      }
    },
    {
      "cell_type": "code",
      "source": [
        "from keras.wrappers.scikit_learn import KerasClassifier\n",
        "\n",
        "def find_minimal_model(X, y, target_accuracy=0.90):\n",
        "    X_train, X_test, y_train, y_test = train_test_split(X, y, test_size=0.2, random_state=1)\n",
        "\n",
        "    for num_layers in range(1, 3):\n",
        "        for num_neurons in range(1, 17):\n",
        "            model = create_model(num_layers=num_layers, num_neurons=num_neurons)\n",
        "            model.fit(X_train, y_train, epochs=10, batch_size=10, verbose=0)\n",
        "            y_pred = model.predict(X_test).round()\n",
        "            accuracy = accuracy_score(y_test, y_pred)\n",
        "            print(f\"Layers: {num_layers}, Neurons: {num_neurons}, Accuracy: {accuracy}\")\n",
        "            if accuracy >= target_accuracy:\n",
        "                return num_layers, num_neurons, accuracy\n",
        "    return None, None, None"
      ],
      "metadata": {
        "id": "bHKSsMWIMhbZ"
      },
      "execution_count": 32,
      "outputs": []
    },
    {
      "cell_type": "markdown",
      "source": [
        "Викликаю функцію пошуку мінімальних параметрів та виводжу результат"
      ],
      "metadata": {
        "id": "wY6PlpPZM3CV"
      }
    },
    {
      "cell_type": "code",
      "source": [
        "best_layers, best_neurons, best_accuracy = find_minimal_model(X_train, y_train)\n",
        "print(f\"Minimal model - Layers: {best_layers}, Neurons: {best_neurons}, Accuracy: {best_accuracy}\")"
      ],
      "metadata": {
        "colab": {
          "base_uri": "https://localhost:8080/",
          "height": 0
        },
        "id": "UzV_88KvI_o9",
        "outputId": "2927cd7e-0140-4bc4-83dd-dab79f647cc4"
      },
      "execution_count": 34,
      "outputs": [
        {
          "output_type": "stream",
          "name": "stdout",
          "text": [
            "43/43 [==============================] - 0s 2ms/step\n",
            "Layers: 1, Neurons: 1, Accuracy: 0.7998522895125554\n",
            "43/43 [==============================] - 0s 1ms/step\n",
            "Layers: 1, Neurons: 2, Accuracy: 0.9608567208271788\n",
            "Minimal model - Layers: 1, Neurons: 2, Accuracy: 0.9608567208271788\n"
          ]
        }
      ]
    },
    {
      "cell_type": "markdown",
      "source": [
        "Визначаю рішення про зарахування студента"
      ],
      "metadata": {
        "id": "P91q77svPD5l"
      }
    },
    {
      "cell_type": "code",
      "source": [
        "y_pred = model.predict(X_test, verbose=0).round()\n",
        "\n",
        "map_result = {\n",
        "  0: 'не зарах.',\n",
        "  1: 'зарах.'\n",
        "}\n",
        "\n",
        "map_priv = {\n",
        "  0: 'нi',\n",
        "  1: 'так'\n",
        "}\n",
        "\n",
        "rate_math = X_test['rate_math']*100+100\n",
        "rate_ukr = X_test['rate_ukr' ]*100+100\n",
        "rate_en = X_test['rate_en']*100+100\n",
        "rate = 0.4*rate_math + 0.3*rate_en + 0.3*rate_ukr\n",
        "\n",
        "rate_math = rate_math.reset_index(drop=True)\n",
        "rate_ukr = rate_ukr.reset_index(drop=True)\n",
        "rate_en = rate_en.reset_index(drop=True)\n",
        "is_priv = X_test['is_priv'].map(map_priv).reset_index(drop=True)\n",
        "result = pd.Series(y_pred.flatten()).map(map_result).reset_index(drop=True)\n",
        "rate = rate.reset_index(drop=True)\n",
        "\n",
        "df_res = pd.DataFrame.from_dict({\n",
        "  'Оцінка з математики': rate_math,\n",
        "  'Оцінка з укр мови': rate_ukr,\n",
        "  'Оцінка з англ мови': rate_en,\n",
        "  'Подається на пільгове місце?': is_priv,\n",
        "  'Рішення моделі': result,\n",
        "  'Рейтинг': rate\n",
        "})\n",
        "df_res = df_res.sort_values('Рейтинг', ascending=False)\n",
        "\n",
        "\n",
        "n_priv = len(df_res[(df_res['Подається на пільгове місце?']=='так') & (df_res['Рішення моделі']=='зарах.')])\n",
        "n_yes = len(df_res[(df_res['Рішення моделі']=='зарах.')])\n",
        "\n",
        "df_res.to_excel('Результат.xlsx', index=False)\n",
        "\n",
        "accuracy = accuracy_score(y_test, y_pred)\n",
        "print(f'Toчнicть: {accuracy}')\n",
        "print(f'Кількість зарахованих: {n_yes}')\n",
        "print(f'Кількість пільгових: {n_priv}')"
      ],
      "metadata": {
        "colab": {
          "base_uri": "https://localhost:8080/",
          "height": 0
        },
        "id": "6Re16tXJPL9h",
        "outputId": "73cf16f9-6168-4aed-f1b5-fd2b29e82f7a"
      },
      "execution_count": 38,
      "outputs": [
        {
          "output_type": "stream",
          "name": "stdout",
          "text": [
            "Toчнicть: 0.9739952718676123\n",
            "Кількість зарахованих: 334\n",
            "Кількість пільгових: 31\n"
          ]
        }
      ]
    },
    {
      "cell_type": "markdown",
      "source": [
        "# Висновок"
      ],
      "metadata": {
        "id": "8ZGqDOALQOsr"
      }
    },
    {
      "cell_type": "markdown",
      "source": [
        "У цій роботі я створив, навчив та апробував багатошарову нейронну\n",
        "мережу з прямою передачею сигналу для ухвалення рішення про\n",
        "зарахування до Університету абітурієнтів, які здали вступні іспити з\n",
        "математики, англійської та української мови. Визначив мінімальну кількість шарів і нейронів, що забезпечує задовільне рішення\n",
        "поставленої задачі. Візуалізував та представив результат у формі Еxcel таблиці, як список зарахованих абітурієнтів."
      ],
      "metadata": {
        "id": "9hvpvpqNQSdv"
      }
    },
    {
      "cell_type": "markdown",
      "source": [],
      "metadata": {
        "id": "qgNoIta4RcaT"
      }
    },
    {
      "cell_type": "markdown",
      "source": [],
      "metadata": {
        "id": "rPM6sbuYRcPE"
      }
    },
    {
      "cell_type": "markdown",
      "source": [],
      "metadata": {
        "id": "jLqu8sANRcD3"
      }
    },
    {
      "cell_type": "markdown",
      "source": [],
      "metadata": {
        "id": "ZElipFccRb4w"
      }
    },
    {
      "cell_type": "markdown",
      "source": [],
      "metadata": {
        "id": "4j_QlR_kRbsy"
      }
    },
    {
      "cell_type": "markdown",
      "source": [],
      "metadata": {
        "id": "yk5ogEPYRbfd"
      }
    },
    {
      "cell_type": "markdown",
      "source": [],
      "metadata": {
        "id": "fhAkPLjCRbSV"
      }
    },
    {
      "cell_type": "markdown",
      "source": [],
      "metadata": {
        "id": "FVZ3ibbpRbG6"
      }
    },
    {
      "cell_type": "markdown",
      "source": [],
      "metadata": {
        "id": "feoknwl2Ra7j"
      }
    },
    {
      "cell_type": "markdown",
      "source": [],
      "metadata": {
        "id": "stQ301NiRawi"
      }
    },
    {
      "cell_type": "markdown",
      "source": [],
      "metadata": {
        "id": "TuDKMBYfRakC"
      }
    },
    {
      "cell_type": "markdown",
      "source": [],
      "metadata": {
        "id": "FpwzWbGwRaXv"
      }
    },
    {
      "cell_type": "markdown",
      "source": [],
      "metadata": {
        "id": "rl9smtpeRaK0"
      }
    },
    {
      "cell_type": "markdown",
      "source": [],
      "metadata": {
        "id": "4xgjBpkRRZ-I"
      }
    },
    {
      "cell_type": "markdown",
      "source": [],
      "metadata": {
        "id": "5vIhxZvPRZwX"
      }
    },
    {
      "cell_type": "markdown",
      "source": [],
      "metadata": {
        "id": "y8UEYcPtRsH9"
      }
    }
  ]
}